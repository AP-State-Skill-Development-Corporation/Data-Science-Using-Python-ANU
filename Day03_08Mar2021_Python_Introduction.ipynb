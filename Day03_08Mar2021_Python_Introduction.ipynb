{
 "cells": [
  {
   "cell_type": "markdown",
   "metadata": {},
   "source": [
    "# Heading1\n",
    "\n",
    "## Heading2"
   ]
  },
  {
   "cell_type": "markdown",
   "metadata": {},
   "source": [
    "### ShiftEnter -> To execute the current cell\n",
    "### ESCM -> Code cell to Markdown (MD)\n",
    "### ESCY -> MD to Code Cell\n",
    "### ESCA -> New Cells above the Current Cell\n",
    "### ESCB -> New Cells Below the Current Cell\n",
    "### ESCDD -> Delete the current/selected cell\n",
    "### EscL -> Toggling Line Numbers for current cell"
   ]
  },
  {
   "cell_type": "markdown",
   "metadata": {},
   "source": [
    "- Points to Remember\n",
    "- Point1\n",
    "    - Sub Point1\n",
    "    - Sub Point2\n",
    "        * Sub Sub Poiint\n",
    "- Point2"
   ]
  },
  {
   "cell_type": "markdown",
   "metadata": {},
   "source": [
    "1. Ordered List\n",
    "    1. Sub Ordered Point\n",
    "        1. Sub Sub Ordered Point\n",
    "2. Ordered List"
   ]
  },
  {
   "cell_type": "markdown",
   "metadata": {},
   "source": [
    "- I'm in **Bold**\n",
    "- I'm also in __Bold__\n",
    "- I'm in *Italic*\n",
    "- I'm also in _Italic_\n",
    "- I'm in both ___Bold & Italic___\n",
    "- I'm in both ***Bold & Italic***"
   ]
  },
  {
   "cell_type": "markdown",
   "metadata": {},
   "source": [
    "### ![Image_Description](Image_Path/Image_URL)\n",
    "\n",
    "![Python Logo](https://ourcodeworld.com/public-media/articles/articleocw-5c65fbda1ea05.jpg)"
   ]
  },
  {
   "cell_type": "markdown",
   "metadata": {},
   "source": [
    "[Link Description](Web URL)\n",
    "\n",
    "[Click to Visit Google](https://www.google.co.in/)"
   ]
  },
  {
   "cell_type": "markdown",
   "metadata": {},
   "source": [
    "|Heading|Heading|Heading|\n",
    "|-------|----|----|\n",
    "|row1|row2|row3|\n",
    "|grvf|rv|rvf|"
   ]
  },
  {
   "cell_type": "markdown",
   "metadata": {},
   "source": [
    "$(a + b) ^ 2$\n",
    "\n",
    "$(a_1 + b_1) ^ 2$\n",
    "\n",
    "$$(a + b) ^ 2$$\n",
    "\n",
    "$(\\alpha + \\beta) ^ 2$"
   ]
  },
  {
   "cell_type": "markdown",
   "metadata": {},
   "source": [
    "# Python Basics"
   ]
  },
  {
   "cell_type": "code",
   "execution_count": 2,
   "metadata": {},
   "outputs": [
    {
     "name": "stdout",
     "output_type": "stream",
     "text": [
      "Hello World\n",
      "Welcome to Data Science\n",
      "Training\n"
     ]
    }
   ],
   "source": [
    "print(\"Hello World\")\n",
    "print(\"Welcome to Data Science\")\n",
    "print(\"Training\")"
   ]
  },
  {
   "cell_type": "code",
   "execution_count": 3,
   "metadata": {},
   "outputs": [
    {
     "name": "stdout",
     "output_type": "stream",
     "text": [
      "Hello World\n",
      "Welcome to Data Science****Training\n"
     ]
    }
   ],
   "source": [
    "print(\"Hello World\")\n",
    "print(\"Welcome to Data Science\", end = '****')\n",
    "print(\"Training\")"
   ]
  },
  {
   "cell_type": "code",
   "execution_count": 4,
   "metadata": {},
   "outputs": [
    {
     "name": "stdout",
     "output_type": "stream",
     "text": [
      "4 5 6 7 8 9 0 22 33\n"
     ]
    }
   ],
   "source": [
    "print(4,5,6,7,8,9,0,22,33)"
   ]
  },
  {
   "cell_type": "code",
   "execution_count": 5,
   "metadata": {},
   "outputs": [
    {
     "name": "stdout",
     "output_type": "stream",
     "text": [
      "4--5--6--7--8--9--0--22--33\n"
     ]
    }
   ],
   "source": [
    "print(4,5,6,7,8,9,0,22,33, sep = '--')"
   ]
  },
  {
   "cell_type": "markdown",
   "metadata": {},
   "source": [
    "Input - function used to take input from the user"
   ]
  },
  {
   "cell_type": "code",
   "execution_count": 6,
   "metadata": {
    "scrolled": true
   },
   "outputs": [
    {
     "name": "stdout",
     "output_type": "stream",
     "text": [
      "Enter a number44\n"
     ]
    },
    {
     "data": {
      "text/plain": [
       "'44'"
      ]
     },
     "execution_count": 6,
     "metadata": {},
     "output_type": "execute_result"
    }
   ],
   "source": [
    "input(\"Enter a number\")"
   ]
  },
  {
   "cell_type": "code",
   "execution_count": 7,
   "metadata": {},
   "outputs": [
    {
     "name": "stdout",
     "output_type": "stream",
     "text": [
      "Hello\n"
     ]
    }
   ],
   "source": [
    "print(\"Hello\")"
   ]
  },
  {
   "cell_type": "markdown",
   "metadata": {},
   "source": [
    "## Variable\n",
    "\n",
    "It is a thing which holds some value\n",
    "\n",
    "### Properties to Declare a Identifiers:\n",
    "\n",
    "identifiers are the names given for variables/functions/classes\n",
    "\n",
    "- It should not contain space\n",
    "- It should not start with digit\n",
    "- It should not contain special characters except _\n",
    "- it should not be a Keyword/reserve words"
   ]
  },
  {
   "cell_type": "code",
   "execution_count": 8,
   "metadata": {},
   "outputs": [],
   "source": [
    "a = 5"
   ]
  },
  {
   "cell_type": "code",
   "execution_count": 9,
   "metadata": {},
   "outputs": [
    {
     "name": "stdout",
     "output_type": "stream",
     "text": [
      "<class 'int'>\n"
     ]
    }
   ],
   "source": [
    "print(type(a))"
   ]
  },
  {
   "cell_type": "code",
   "execution_count": 10,
   "metadata": {},
   "outputs": [
    {
     "name": "stdout",
     "output_type": "stream",
     "text": [
      "140734839469984\n"
     ]
    }
   ],
   "source": [
    "print(id(a))"
   ]
  },
  {
   "cell_type": "code",
   "execution_count": 11,
   "metadata": {},
   "outputs": [],
   "source": [
    "a = 5.5"
   ]
  },
  {
   "cell_type": "code",
   "execution_count": 12,
   "metadata": {},
   "outputs": [
    {
     "name": "stdout",
     "output_type": "stream",
     "text": [
      "<class 'float'>\n"
     ]
    }
   ],
   "source": [
    "print(type(a))"
   ]
  },
  {
   "cell_type": "code",
   "execution_count": 13,
   "metadata": {},
   "outputs": [],
   "source": [
    "_ = 55"
   ]
  },
  {
   "cell_type": "code",
   "execution_count": 14,
   "metadata": {},
   "outputs": [
    {
     "name": "stdout",
     "output_type": "stream",
     "text": [
      "<class 'int'>\n"
     ]
    }
   ],
   "source": [
    "print(type(_))"
   ]
  },
  {
   "cell_type": "code",
   "execution_count": 16,
   "metadata": {},
   "outputs": [],
   "source": [
    "### CSE\n",
    "\n",
    "x = \"\"\"66,65,7,12,4,36,41,46,43,38,22,14,23,39,15,50,L69,L68,24,28,8,I61,13\n",
    "47,3,27,30,10,45,42,37,54,18,48,2,44,5,35,20,58,L63,6,11,49,L62,34,33,57,51,40,29,56,L61,\"\"\"\n",
    "\n",
    "### ECE\n",
    "\n",
    "y = \"46, 18,61,65,2,48,58,47,32,43,10,64,27,30,22,42,4,52,53,37,25,50,6,57,33,40,44,31,28,51,66,63,26,5,45,29,35,36,7,67\""
   ]
  },
  {
   "cell_type": "code",
   "execution_count": 18,
   "metadata": {},
   "outputs": [
    {
     "data": {
      "text/plain": [
       "92"
      ]
     },
     "execution_count": 18,
     "metadata": {},
     "output_type": "execute_result"
    }
   ],
   "source": [
    "len((x + y).split(','))"
   ]
  },
  {
   "cell_type": "code",
   "execution_count": null,
   "metadata": {},
   "outputs": [],
   "source": []
  }
 ],
 "metadata": {
  "kernelspec": {
   "display_name": "Python 3",
   "language": "python",
   "name": "python3"
  },
  "language_info": {
   "codemirror_mode": {
    "name": "ipython",
    "version": 3
   },
   "file_extension": ".py",
   "mimetype": "text/x-python",
   "name": "python",
   "nbconvert_exporter": "python",
   "pygments_lexer": "ipython3",
   "version": "3.8.3"
  }
 },
 "nbformat": 4,
 "nbformat_minor": 4
}
