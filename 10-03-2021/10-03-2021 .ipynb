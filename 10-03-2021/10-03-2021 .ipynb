{
 "cells": [
  {
   "cell_type": "markdown",
   "metadata": {},
   "source": [
    "## Tuple\n",
    "## Dictionary\n",
    "## Set\n",
    "## Conditional Statement \n",
    "## Loops in Python\n",
    "## Function\n",
    "## Packages and modules"
   ]
  },
  {
   "cell_type": "code",
   "execution_count": 1,
   "metadata": {},
   "outputs": [
    {
     "name": "stdout",
     "output_type": "stream",
     "text": [
      "(14, 16, 18, 22, 25, 23)\n"
     ]
    }
   ],
   "source": [
    "# tuple\n",
    "# By using () we are declaring the tuple\n",
    "# It is immutabele\n",
    "\n",
    "tuple1 = (14,16,18,22,25,23)\n",
    "print(tuple1)"
   ]
  },
  {
   "cell_type": "code",
   "execution_count": 2,
   "metadata": {},
   "outputs": [
    {
     "data": {
      "text/plain": [
       "14"
      ]
     },
     "execution_count": 2,
     "metadata": {},
     "output_type": "execute_result"
    }
   ],
   "source": [
    "# indexing and slicing \n",
    "tuple1[0]"
   ]
  },
  {
   "cell_type": "code",
   "execution_count": 3,
   "metadata": {},
   "outputs": [
    {
     "data": {
      "text/plain": [
       "(14, 16, 18)"
      ]
     },
     "execution_count": 3,
     "metadata": {},
     "output_type": "execute_result"
    }
   ],
   "source": [
    "tuple1[0:3]"
   ]
  },
  {
   "cell_type": "code",
   "execution_count": 4,
   "metadata": {},
   "outputs": [
    {
     "ename": "TypeError",
     "evalue": "'tuple' object does not support item assignment",
     "output_type": "error",
     "traceback": [
      "\u001b[1;31m---------------------------------------------------------------------------\u001b[0m",
      "\u001b[1;31mTypeError\u001b[0m                                 Traceback (most recent call last)",
      "\u001b[1;32m<ipython-input-4-85a9a36189de>\u001b[0m in \u001b[0;36m<module>\u001b[1;34m\u001b[0m\n\u001b[1;32m----> 1\u001b[1;33m \u001b[0mtuple1\u001b[0m\u001b[1;33m[\u001b[0m\u001b[1;36m0\u001b[0m\u001b[1;33m]\u001b[0m\u001b[1;33m=\u001b[0m\u001b[1;36m25\u001b[0m\u001b[1;33m\u001b[0m\u001b[1;33m\u001b[0m\u001b[0m\n\u001b[0m",
      "\u001b[1;31mTypeError\u001b[0m: 'tuple' object does not support item assignment"
     ]
    }
   ],
   "source": [
    "tuple1[0]=25"
   ]
  },
  {
   "cell_type": "code",
   "execution_count": 5,
   "metadata": {},
   "outputs": [
    {
     "data": {
      "text/plain": [
       "0"
      ]
     },
     "execution_count": 5,
     "metadata": {},
     "output_type": "execute_result"
    }
   ],
   "source": [
    "tuple1.count(10)"
   ]
  },
  {
   "cell_type": "code",
   "execution_count": 6,
   "metadata": {},
   "outputs": [
    {
     "ename": "ValueError",
     "evalue": "tuple.index(x): x not in tuple",
     "output_type": "error",
     "traceback": [
      "\u001b[1;31m---------------------------------------------------------------------------\u001b[0m",
      "\u001b[1;31mValueError\u001b[0m                                Traceback (most recent call last)",
      "\u001b[1;32m<ipython-input-6-4eb81f68e591>\u001b[0m in \u001b[0;36m<module>\u001b[1;34m\u001b[0m\n\u001b[1;32m----> 1\u001b[1;33m \u001b[0mtuple1\u001b[0m\u001b[1;33m.\u001b[0m\u001b[0mindex\u001b[0m\u001b[1;33m(\u001b[0m\u001b[1;36m10\u001b[0m\u001b[1;33m)\u001b[0m\u001b[1;33m\u001b[0m\u001b[1;33m\u001b[0m\u001b[0m\n\u001b[0m",
      "\u001b[1;31mValueError\u001b[0m: tuple.index(x): x not in tuple"
     ]
    }
   ],
   "source": [
    "tuple1.index(10)"
   ]
  },
  {
   "cell_type": "code",
   "execution_count": 7,
   "metadata": {},
   "outputs": [
    {
     "data": {
      "text/plain": [
       "1"
      ]
     },
     "execution_count": 7,
     "metadata": {},
     "output_type": "execute_result"
    }
   ],
   "source": [
    "tuple1.index(16)"
   ]
  },
  {
   "cell_type": "markdown",
   "metadata": {},
   "source": [
    "# Dictionary\n",
    "- It is declare with {}\n",
    "- It is mutable\n",
    "- In this we declare values with key,value paramers"
   ]
  },
  {
   "cell_type": "code",
   "execution_count": 8,
   "metadata": {},
   "outputs": [
    {
     "name": "stdout",
     "output_type": "stream",
     "text": [
      "{'abhinav': 85, 'siva': 100, 'anil': 99, 'krishna': 65}\n"
     ]
    }
   ],
   "source": [
    "dict1 = {\"abhinav\":85,\"siva\":100,\"anil\":99,\"krishna\":65}\n",
    "print(dict1)"
   ]
  },
  {
   "cell_type": "code",
   "execution_count": 10,
   "metadata": {},
   "outputs": [
    {
     "data": {
      "text/plain": [
       "100"
      ]
     },
     "execution_count": 10,
     "metadata": {},
     "output_type": "execute_result"
    }
   ],
   "source": [
    "dict1['siva']"
   ]
  },
  {
   "cell_type": "code",
   "execution_count": 11,
   "metadata": {},
   "outputs": [
    {
     "data": {
      "text/plain": [
       "65"
      ]
     },
     "execution_count": 11,
     "metadata": {},
     "output_type": "execute_result"
    }
   ],
   "source": [
    "dict1['krishna']"
   ]
  },
  {
   "cell_type": "code",
   "execution_count": 12,
   "metadata": {},
   "outputs": [
    {
     "data": {
      "text/plain": [
       "dict_keys(['abhinav', 'siva', 'anil', 'krishna'])"
      ]
     },
     "execution_count": 12,
     "metadata": {},
     "output_type": "execute_result"
    }
   ],
   "source": [
    "# methods in dict\n",
    "# --> keys()\n",
    "dict1.keys()"
   ]
  },
  {
   "cell_type": "code",
   "execution_count": 13,
   "metadata": {},
   "outputs": [
    {
     "data": {
      "text/plain": [
       "dict_values([85, 100, 99, 65])"
      ]
     },
     "execution_count": 13,
     "metadata": {},
     "output_type": "execute_result"
    }
   ],
   "source": [
    "# --> values()\n",
    "dict1.values()"
   ]
  },
  {
   "cell_type": "code",
   "execution_count": 15,
   "metadata": {},
   "outputs": [
    {
     "name": "stdout",
     "output_type": "stream",
     "text": [
      "{'abhinav': 85, 'siva': 100, 'anil': 99, 'krishna': 65, 'ramya': 87}\n"
     ]
    }
   ],
   "source": [
    "dict1.update({'ramya':87})\n",
    "print(dict1)"
   ]
  },
  {
   "cell_type": "code",
   "execution_count": 16,
   "metadata": {},
   "outputs": [
    {
     "data": {
      "text/plain": [
       "100"
      ]
     },
     "execution_count": 16,
     "metadata": {},
     "output_type": "execute_result"
    }
   ],
   "source": [
    "dict1.pop('siva')"
   ]
  },
  {
   "cell_type": "code",
   "execution_count": 17,
   "metadata": {},
   "outputs": [
    {
     "data": {
      "text/plain": [
       "{'abhinav': 85, 'anil': 99, 'krishna': 65, 'ramya': 87}"
      ]
     },
     "execution_count": 17,
     "metadata": {},
     "output_type": "execute_result"
    }
   ],
   "source": [
    "dict1"
   ]
  },
  {
   "cell_type": "code",
   "execution_count": 18,
   "metadata": {},
   "outputs": [
    {
     "name": "stdout",
     "output_type": "stream",
     "text": [
      "{'abhinav': 85, 'anil': 99, 'krishna': 65}\n"
     ]
    }
   ],
   "source": [
    "dict1.popitem()\n",
    "print(dict1)"
   ]
  },
  {
   "cell_type": "code",
   "execution_count": 19,
   "metadata": {},
   "outputs": [
    {
     "data": {
      "text/plain": [
       "dict_items([('abhinav', 85), ('anil', 99), ('krishna', 65)])"
      ]
     },
     "execution_count": 19,
     "metadata": {},
     "output_type": "execute_result"
    }
   ],
   "source": [
    "dict1.items()"
   ]
  },
  {
   "cell_type": "markdown",
   "metadata": {},
   "source": [
    "# Set Data type\n",
    "- It is mutable\n",
    "- It is declare with {}\n",
    "- It is unorder list\n",
    "- It can't allow the duplicates"
   ]
  },
  {
   "cell_type": "code",
   "execution_count": 20,
   "metadata": {},
   "outputs": [
    {
     "name": "stdout",
     "output_type": "stream",
     "text": [
      "{32, 10, 15, 21, 25}\n"
     ]
    }
   ],
   "source": [
    "set1 = {10,25,15,32,21,10}\n",
    "print(set1)"
   ]
  },
  {
   "cell_type": "code",
   "execution_count": 21,
   "metadata": {},
   "outputs": [
    {
     "ename": "TypeError",
     "evalue": "'set' object is not subscriptable",
     "output_type": "error",
     "traceback": [
      "\u001b[1;31m---------------------------------------------------------------------------\u001b[0m",
      "\u001b[1;31mTypeError\u001b[0m                                 Traceback (most recent call last)",
      "\u001b[1;32m<ipython-input-21-c38563f1af7a>\u001b[0m in \u001b[0;36m<module>\u001b[1;34m\u001b[0m\n\u001b[1;32m----> 1\u001b[1;33m \u001b[0mset1\u001b[0m\u001b[1;33m[\u001b[0m\u001b[1;36m0\u001b[0m\u001b[1;33m]\u001b[0m\u001b[1;33m\u001b[0m\u001b[1;33m\u001b[0m\u001b[0m\n\u001b[0m",
      "\u001b[1;31mTypeError\u001b[0m: 'set' object is not subscriptable"
     ]
    }
   ],
   "source": [
    "set1[0]"
   ]
  },
  {
   "cell_type": "code",
   "execution_count": 22,
   "metadata": {},
   "outputs": [
    {
     "data": {
      "text/plain": [
       "{10, 15, 21, 25, 32, 100}"
      ]
     },
     "execution_count": 22,
     "metadata": {},
     "output_type": "execute_result"
    }
   ],
   "source": [
    "set1.add(100)\n",
    "set1"
   ]
  },
  {
   "cell_type": "code",
   "execution_count": 24,
   "metadata": {},
   "outputs": [],
   "source": [
    "cricket = {\"Narendra\",\"pavan\",\"mastan\",\"krish\",\"gopi\",\"VC\"}\n",
    "kabaddi = {\"pavan\",\"gokul\",\"shekhar\",\"DJ\",\"abhinav\",\"anil\"}"
   ]
  },
  {
   "cell_type": "code",
   "execution_count": 25,
   "metadata": {},
   "outputs": [
    {
     "data": {
      "text/plain": [
       "{'pavan'}"
      ]
     },
     "execution_count": 25,
     "metadata": {},
     "output_type": "execute_result"
    }
   ],
   "source": [
    "cricket.intersection(kabaddi)"
   ]
  },
  {
   "cell_type": "code",
   "execution_count": 26,
   "metadata": {
    "collapsed": true
   },
   "outputs": [
    {
     "data": {
      "text/plain": [
       "{'DJ',\n",
       " 'Narendra',\n",
       " 'VC',\n",
       " 'abhinav',\n",
       " 'anil',\n",
       " 'gokul',\n",
       " 'gopi',\n",
       " 'krish',\n",
       " 'mastan',\n",
       " 'pavan',\n",
       " 'shekhar'}"
      ]
     },
     "execution_count": 26,
     "metadata": {},
     "output_type": "execute_result"
    }
   ],
   "source": [
    "cricket.union(kabaddi)"
   ]
  },
  {
   "cell_type": "code",
   "execution_count": 30,
   "metadata": {},
   "outputs": [
    {
     "name": "stdout",
     "output_type": "stream",
     "text": [
      "results {'sowmya', 'giri'}\n",
      "test1 {'pavani', 'giri', 'alekhya', 'sowmya'}\n",
      "test2 {'hari', 'giri', 'sowmya', 'sandhya', 'bindhu'}\n"
     ]
    }
   ],
   "source": [
    "apssdc_test1 = {\"pavani\",\"alekhya\",\"giri\",\"sowmya\"}\n",
    "apssdc_test2 = {\"giri\",\"hari\",\"bindhu\",\"sowmya\",\"sandhya\"}\n",
    "\n",
    "print(\"results\",apssdc_test1.intersection(apssdc_test2))\n",
    "print(\"test1\",apssdc_test1)\n",
    "print(\"test2\",apssdc_test2)"
   ]
  },
  {
   "cell_type": "code",
   "execution_count": 31,
   "metadata": {},
   "outputs": [
    {
     "name": "stdout",
     "output_type": "stream",
     "text": [
      "results None\n",
      "test1 {'sowmya', 'giri'}\n",
      "test2 {'hari', 'giri', 'sowmya', 'sandhya', 'bindhu'}\n"
     ]
    }
   ],
   "source": [
    "apssdc_test1 = {\"pavani\",\"alekhya\",\"giri\",\"sowmya\"}\n",
    "apssdc_test2 = {\"giri\",\"hari\",\"bindhu\",\"sowmya\",\"sandhya\"}\n",
    "\n",
    "print(\"results\",apssdc_test1.intersection_update(apssdc_test2))\n",
    "print(\"test1\",apssdc_test1)\n",
    "print(\"test2\",apssdc_test2)"
   ]
  },
  {
   "cell_type": "code",
   "execution_count": 32,
   "metadata": {},
   "outputs": [
    {
     "data": {
      "text/plain": [
       "True"
      ]
     },
     "execution_count": 32,
     "metadata": {},
     "output_type": "execute_result"
    }
   ],
   "source": [
    "attd_list = {12,15,45,78,61,16,36}\n",
    "original_list = {12,13,14,15,16,45,46,47,36,37,61,77,78}\n",
    "\n",
    "#original_list.issubset(attd_list)\n",
    "\n",
    "attd_list.issubset(original_list)"
   ]
  },
  {
   "cell_type": "markdown",
   "metadata": {},
   "source": [
    "# Conditional Statements\n",
    "- if,elif,if else,nested if"
   ]
  },
  {
   "cell_type": "code",
   "execution_count": 33,
   "metadata": {},
   "outputs": [
    {
     "name": "stdout",
     "output_type": "stream",
     "text": [
      "Given Number is odd Number\n"
     ]
    }
   ],
   "source": [
    "num = 123\n",
    "if num%2 == 0:\n",
    "    print(\"Given Number is Even Number\")\n",
    "else:\n",
    "    print(\"Given Number is odd Number\")"
   ]
  },
  {
   "cell_type": "code",
   "execution_count": 35,
   "metadata": {},
   "outputs": [
    {
     "name": "stdout",
     "output_type": "stream",
     "text": [
      "Enter the your user name:- 123\n",
      "Try again with correct user name\n"
     ]
    }
   ],
   "source": [
    "# input method is used for taking the input from user \n",
    "original_user_name = \"ranganayakulu123\"\n",
    "user_input = input(\"Enter the your user name:- \")\n",
    "if original_user_name == user_input:\n",
    "    print(\"your validation is success\")\n",
    "else:\n",
    "    print(\"Try again with correct user name\")"
   ]
  },
  {
   "cell_type": "markdown",
   "metadata": {},
   "source": [
    "# Loops\n",
    "- for \n",
    "- While"
   ]
  },
  {
   "cell_type": "code",
   "execution_count": 36,
   "metadata": {},
   "outputs": [
    {
     "name": "stdout",
     "output_type": "stream",
     "text": [
      "0-->1-->2-->3-->4-->5-->6-->7-->8-->9-->"
     ]
    }
   ],
   "source": [
    "for value in range(10):\n",
    "    print(value,end = \"-->\")"
   ]
  },
  {
   "cell_type": "code",
   "execution_count": 37,
   "metadata": {},
   "outputs": [
    {
     "name": "stdout",
     "output_type": "stream",
     "text": [
      "1 2 3 4 5 6 7 8 9 10 11 12 13 14 15 16 17 18 19 20 21 22 23 24 25 26 27 28 29 30 31 32 33 34 35 36 37 38 39 40 41 42 43 44 45 46 47 48 49 50 51 52 53 54 55 56 57 58 59 60 61 62 63 64 65 66 67 68 69 70 71 72 73 74 75 76 77 78 79 80 81 82 83 84 85 86 87 88 89 90 91 92 93 94 95 96 97 98 99 "
     ]
    }
   ],
   "source": [
    "for value in range(1,100):\n",
    "    print(value,end = \" \")"
   ]
  },
  {
   "cell_type": "code",
   "execution_count": 38,
   "metadata": {},
   "outputs": [
    {
     "name": "stdout",
     "output_type": "stream",
     "text": [
      "1__11__21__31__41__51__61__71__81__91__101__111__121__131__141__151__161__171__181__191__201__211__221__231__241__251__261__271__281__291__301__311__321__331__341__351__361__371__381__391__401__411__421__431__441__451__461__471__481__491__501__511__521__531__541__551__561__571__581__591__601__611__621__631__641__651__661__671__681__691__701__711__721__731__741__751__761__771__781__791__801__811__821__831__841__851__861__871__881__891__901__911__921__931__941__951__961__971__981__991__"
     ]
    }
   ],
   "source": [
    "for value in range(1,1000,10):\n",
    "    print(value,end = \"__\")"
   ]
  },
  {
   "cell_type": "code",
   "execution_count": 39,
   "metadata": {},
   "outputs": [
    {
     "name": "stdout",
     "output_type": "stream",
     "text": [
      "Enter required table Number: 10100\n",
      "10100 * 1 = 10100\n",
      "10100 * 2 = 20200\n",
      "10100 * 3 = 30300\n",
      "10100 * 4 = 40400\n",
      "10100 * 5 = 50500\n",
      "10100 * 6 = 60600\n",
      "10100 * 7 = 70700\n",
      "10100 * 8 = 80800\n",
      "10100 * 9 = 90900\n",
      "10100 * 10 = 101000\n"
     ]
    }
   ],
   "source": [
    "table_num = int(input(\"Enter required table Number: \"))\n",
    "for i in range(1,11):\n",
    "    print(table_num,'*',i,'=',table_num*i)"
   ]
  },
  {
   "cell_type": "code",
   "execution_count": 40,
   "metadata": {},
   "outputs": [
    {
     "name": "stdout",
     "output_type": "stream",
     "text": [
      "Enter required table Number: 250\n",
      "Enter the staring required value25\n",
      "Enter the ending required product35\n",
      "250 * 25 = 6250\n",
      "250 * 26 = 6500\n",
      "250 * 27 = 6750\n",
      "250 * 28 = 7000\n",
      "250 * 29 = 7250\n",
      "250 * 30 = 7500\n",
      "250 * 31 = 7750\n",
      "250 * 32 = 8000\n",
      "250 * 33 = 8250\n",
      "250 * 34 = 8500\n",
      "250 * 35 = 8750\n"
     ]
    }
   ],
   "source": [
    "table_num = int(input(\"Enter required table Number: \"))\n",
    "starting_value = int(input(\"Enter the staring required value\"))\n",
    "ending_value = int(input(\"Enter the ending required product\"))\n",
    "for i in range(starting_value,ending_value+1):\n",
    "    print(table_num,'*',i,'=',table_num*i)"
   ]
  },
  {
   "cell_type": "markdown",
   "metadata": {},
   "source": [
    "# Strong Password\n",
    "\n",
    "- Min one Upper Case Charactor\n",
    "- Min One Lower Case Charactor\n",
    "- Min one Special Charactor or Symbol\n",
    "- Min one Number or digit\n",
    "- Min password length having 9 Charactors"
   ]
  },
  {
   "cell_type": "code",
   "execution_count": 42,
   "metadata": {},
   "outputs": [
    {
     "name": "stdout",
     "output_type": "stream",
     "text": [
      "Your password is valid and strong Password\n"
     ]
    }
   ],
   "source": [
    "password = \"Apssdc@967\"\n",
    "upper = lower = special = numbers = 0\n",
    "for char in password:\n",
    "    if char.isupper():\n",
    "        upper = upper+1\n",
    "    elif char.islower():\n",
    "        lower = lower+1\n",
    "    elif char.isdigit():\n",
    "        numbers+=1\n",
    "    else:\n",
    "        special+=1\n",
    "if upper>=1 and lower>=1 and numbers>=1 and special>=1 and len(password) >= 9:\n",
    "    print(\"Your password is valid and strong Password\")\n",
    "else:\n",
    "    print(\"Weak password try to use one lower,upper,special char,number and length  greather than 9\")"
   ]
  },
  {
   "cell_type": "markdown",
   "metadata": {},
   "source": [
    "# Functions"
   ]
  },
  {
   "cell_type": "markdown",
   "metadata": {},
   "source": [
    "## Syntax\n",
    "```\n",
    "def function_name(arguments):\n",
    "    statements\n",
    "```"
   ]
  },
  {
   "cell_type": "code",
   "execution_count": 45,
   "metadata": {},
   "outputs": [],
   "source": [
    "def wishes(name):\n",
    "    return \"Good Afternoon \"+name"
   ]
  },
  {
   "cell_type": "code",
   "execution_count": 46,
   "metadata": {},
   "outputs": [
    {
     "data": {
      "text/plain": [
       "'Good Afternoon Ranga'"
      ]
     },
     "execution_count": 46,
     "metadata": {},
     "output_type": "execute_result"
    }
   ],
   "source": [
    "wishes(\"Ranga\")"
   ]
  },
  {
   "cell_type": "code",
   "execution_count": 47,
   "metadata": {},
   "outputs": [],
   "source": [
    "def numberchar(name):\n",
    "    dict1 = {}\n",
    "    for char in name:\n",
    "        if char in dict1:\n",
    "            dict1[char] = dict1[char]+1\n",
    "        else:\n",
    "            dict1[char] = 1\n",
    "    return dict1\n",
    "\n",
    "# input = apssdc\n",
    "# dict1 = {'a':1,'p':1,'s':2,'d':1,\"c\":1}"
   ]
  },
  {
   "cell_type": "code",
   "execution_count": 48,
   "metadata": {},
   "outputs": [
    {
     "data": {
      "text/plain": [
       "{'r': 1, 'a': 4, 'n': 2, 'g': 1, 'y': 1, 'k': 1, 'u': 2, 'l': 1}"
      ]
     },
     "execution_count": 48,
     "metadata": {},
     "output_type": "execute_result"
    }
   ],
   "source": [
    "numberchar(\"ranganayakulu\")"
   ]
  },
  {
   "cell_type": "code",
   "execution_count": 50,
   "metadata": {},
   "outputs": [
    {
     "data": {
      "text/plain": [
       "300"
      ]
     },
     "execution_count": 50,
     "metadata": {},
     "output_type": "execute_result"
    }
   ],
   "source": [
    "# Default Argument Function\n",
    "# range is example for default argument function\n",
    "def add(n1,n2=100):\n",
    "    return n1+n2\n",
    "\n",
    "add(200)"
   ]
  },
  {
   "cell_type": "code",
   "execution_count": 51,
   "metadata": {},
   "outputs": [
    {
     "data": {
      "text/plain": [
       "30"
      ]
     },
     "execution_count": 51,
     "metadata": {},
     "output_type": "execute_result"
    }
   ],
   "source": [
    "add(10,20)"
   ]
  },
  {
   "cell_type": "code",
   "execution_count": 54,
   "metadata": {},
   "outputs": [
    {
     "data": {
      "text/plain": [
       "'Welcome to Data Science Internship wishes to saroja'"
      ]
     },
     "execution_count": 54,
     "metadata": {},
     "output_type": "execute_result"
    }
   ],
   "source": [
    "# keyword Argument Function\n",
    "def wish(name,program):\n",
    "    return \"Welcome to \"+program+\" Internship wishes to \"+name\n",
    "\n",
    "wish(name = \"saroja\",program = \"Data Science\")"
   ]
  },
  {
   "cell_type": "code",
   "execution_count": 55,
   "metadata": {},
   "outputs": [
    {
     "data": {
      "text/plain": [
       "'Welcome to Data Science Internship wishes to saroja'"
      ]
     },
     "execution_count": 55,
     "metadata": {},
     "output_type": "execute_result"
    }
   ],
   "source": [
    "wish(\"saroja\",program = \"Data Science\")"
   ]
  },
  {
   "cell_type": "code",
   "execution_count": 56,
   "metadata": {},
   "outputs": [
    {
     "data": {
      "text/plain": [
       "(10, 15, (25, 30))"
      ]
     },
     "execution_count": 56,
     "metadata": {},
     "output_type": "execute_result"
    }
   ],
   "source": [
    "# Variable length Argument Function\n",
    "# print is the example for variable length argument function\n",
    "\n",
    "def add(n1,n2,*n3):\n",
    "    return n1,n2,n3\n",
    "\n",
    "add(10,15,25,30)"
   ]
  },
  {
   "cell_type": "code",
   "execution_count": 57,
   "metadata": {},
   "outputs": [
    {
     "data": {
      "text/plain": [
       "100"
      ]
     },
     "execution_count": 57,
     "metadata": {},
     "output_type": "execute_result"
    }
   ],
   "source": [
    "def sum1(a,b,*c):\n",
    "    return a+b+sum(c)\n",
    "sum1(10,20,30,40)"
   ]
  },
  {
   "cell_type": "markdown",
   "metadata": {},
   "source": [
    "# Packages and modules\n",
    "\n",
    "## Module\n",
    "- module is a .py file \n",
    "- in .py we have different methods or collection of methods\n",
    "- by using **import** we can import our required module \n",
    "- Our jupyter file location and module are in same location\n",
    "\n",
    "## Package\n",
    "- Package is a collection of modules\n",
    "- By using **import** keyword we can import required packages"
   ]
  },
  {
   "cell_type": "code",
   "execution_count": 58,
   "metadata": {},
   "outputs": [
    {
     "data": {
      "text/plain": [
       "35"
      ]
     },
     "execution_count": 58,
     "metadata": {},
     "output_type": "execute_result"
    }
   ],
   "source": [
    "import Arthematic\n",
    "Arthematic.sum1(10,25)"
   ]
  },
  {
   "cell_type": "code",
   "execution_count": 59,
   "metadata": {},
   "outputs": [
    {
     "data": {
      "text/plain": [
       "0.03913894324853229"
      ]
     },
     "execution_count": 59,
     "metadata": {},
     "output_type": "execute_result"
    }
   ],
   "source": [
    "import Arthematic as ar\n",
    "ar.div(100,2555)"
   ]
  },
  {
   "cell_type": "code",
   "execution_count": 60,
   "metadata": {},
   "outputs": [
    {
     "data": {
      "text/plain": [
       "'not equal'"
      ]
     },
     "execution_count": 60,
     "metadata": {},
     "output_type": "execute_result"
    }
   ],
   "source": [
    "from anupackage import logical\n",
    "logical.bbbb(10,20)"
   ]
  },
  {
   "cell_type": "markdown",
   "metadata": {},
   "source": [
    "## http://bit.ly/apssdc-git"
   ]
  }
 ],
 "metadata": {
  "kernelspec": {
   "display_name": "Python 3",
   "language": "python",
   "name": "python3"
  },
  "language_info": {
   "codemirror_mode": {
    "name": "ipython",
    "version": 3
   },
   "file_extension": ".py",
   "mimetype": "text/x-python",
   "name": "python",
   "nbconvert_exporter": "python",
   "pygments_lexer": "ipython3",
   "version": "3.7.3"
  }
 },
 "nbformat": 4,
 "nbformat_minor": 2
}
